{
 "cells": [
  {
   "cell_type": "markdown",
   "id": "b650d739",
   "metadata": {},
   "source": [
    "# Solscan Llama Python API Tutorial"
   ]
  },
  {
   "cell_type": "markdown",
   "id": "90d1e1be",
   "metadata": {},
   "source": [
    "This tutorial aims to be a quick guide to get you started using the Solscan API integrated into messari's python library."
   ]
  },
  {
   "cell_type": "code",
   "execution_count": 2,
   "id": "4f68f0a5",
   "metadata": {},
   "outputs": [],
   "source": [
    "from messari.solscan import Solscan\n",
    "ss = Solscan()"
   ]
  },
  {
   "cell_type": "markdown",
   "id": "9817299a",
   "metadata": {},
   "source": [
    "## get_last_block"
   ]
  },
  {
   "cell_type": "markdown",
   "id": "b9e965ac",
   "metadata": {},
   "source": []
  },
  {
   "cell_type": "code",
   "execution_count": null,
   "id": "e8a14b29",
   "metadata": {},
   "outputs": [],
   "source": [
    "last_block = ss.get_last_block()"
   ]
  },
  {
   "cell_type": "markdown",
   "id": "c300dc7b",
   "metadata": {},
   "source": [
    "## get_block_transactions"
   ]
  },
  {
   "cell_type": "markdown",
   "id": "5aca33a6",
   "metadata": {},
   "source": []
  },
  {
   "cell_type": "code",
   "execution_count": null,
   "id": "db99472c",
   "metadata": {},
   "outputs": [],
   "source": [
    "block_transactions = ss.get_block_transactions()"
   ]
  },
  {
   "cell_type": "markdown",
   "id": "82d9d711",
   "metadata": {},
   "source": [
    "## get_block"
   ]
  },
  {
   "cell_type": "markdown",
   "id": "1e036a6c",
   "metadata": {},
   "source": []
  },
  {
   "cell_type": "code",
   "execution_count": null,
   "id": "5d8be762",
   "metadata": {},
   "outputs": [],
   "source": [
    "block = ss.get_block()"
   ]
  },
  {
   "cell_type": "markdown",
   "id": "6c16199e",
   "metadata": {},
   "source": [
    "## get_last_transaction"
   ]
  },
  {
   "cell_type": "markdown",
   "id": "8ce969b5",
   "metadata": {},
   "source": []
  },
  {
   "cell_type": "code",
   "execution_count": null,
   "id": "4d1d8ebc",
   "metadata": {},
   "outputs": [],
   "source": [
    "last_transaction = ss.get_last_transaction()"
   ]
  },
  {
   "cell_type": "markdown",
   "id": "04e717ec",
   "metadata": {},
   "source": [
    "## get_transaction"
   ]
  },
  {
   "cell_type": "markdown",
   "id": "e81cc337",
   "metadata": {},
   "source": []
  },
  {
   "cell_type": "code",
   "execution_count": null,
   "id": "7e2dec25",
   "metadata": {},
   "outputs": [],
   "source": [
    "transaction = ss.get_transactio()"
   ]
  },
  {
   "cell_type": "markdown",
   "id": "712683e0",
   "metadata": {},
   "source": [
    "## get_account_tokens"
   ]
  },
  {
   "cell_type": "markdown",
   "id": "47cef0af",
   "metadata": {},
   "source": []
  },
  {
   "cell_type": "code",
   "execution_count": null,
   "id": "fd9375b2",
   "metadata": {},
   "outputs": [],
   "source": [
    "account_tokens = ss.get_account_tokens()"
   ]
  },
  {
   "cell_type": "markdown",
   "id": "cd642db0",
   "metadata": {},
   "source": [
    "## get_account_transactions"
   ]
  },
  {
   "cell_type": "markdown",
   "id": "408d559b",
   "metadata": {},
   "source": []
  },
  {
   "cell_type": "code",
   "execution_count": null,
   "id": "84ca501c",
   "metadata": {},
   "outputs": [],
   "source": [
    "account_transactions = ss.get_account_transactions()"
   ]
  },
  {
   "cell_type": "markdown",
   "id": "abd13677",
   "metadata": {},
   "source": [
    "## get_account_stake"
   ]
  },
  {
   "cell_type": "markdown",
   "id": "b489cff6",
   "metadata": {},
   "source": []
  },
  {
   "cell_type": "code",
   "execution_count": null,
   "id": "2e3cb212",
   "metadata": {},
   "outputs": [],
   "source": [
    "account_stake = ss.get_account_stake()"
   ]
  },
  {
   "cell_type": "markdown",
   "id": "0c2c3590",
   "metadata": {},
   "source": [
    "## get_account_spl_transactions"
   ]
  },
  {
   "cell_type": "markdown",
   "id": "1d6f5ec2",
   "metadata": {},
   "source": []
  },
  {
   "cell_type": "code",
   "execution_count": null,
   "id": "ff3216d3",
   "metadata": {},
   "outputs": [],
   "source": [
    "account_spl_transactions = ss.get_account_spl_transactions()"
   ]
  },
  {
   "cell_type": "markdown",
   "id": "aa361ae2",
   "metadata": {},
   "source": [
    "## get_account_sol_transactions"
   ]
  },
  {
   "cell_type": "markdown",
   "id": "9190b7e1",
   "metadata": {},
   "source": []
  },
  {
   "cell_type": "code",
   "execution_count": null,
   "id": "8438449b",
   "metadata": {},
   "outputs": [],
   "source": [
    "account_sol_transactions = ss.get_account_sol_transactions()"
   ]
  },
  {
   "cell_type": "markdown",
   "id": "8ec1cd74",
   "metadata": {},
   "source": [
    "## get_account_export_transactions"
   ]
  },
  {
   "cell_type": "markdown",
   "id": "9b00d645",
   "metadata": {},
   "source": []
  },
  {
   "cell_type": "code",
   "execution_count": null,
   "id": "036bfd94",
   "metadata": {},
   "outputs": [],
   "source": [
    "account_export_transactions = ss.get_account_export_transactions()"
   ]
  },
  {
   "cell_type": "markdown",
   "id": "926543db",
   "metadata": {},
   "source": [
    "## get_account"
   ]
  },
  {
   "cell_type": "markdown",
   "id": "f30ee307",
   "metadata": {},
   "source": []
  },
  {
   "cell_type": "code",
   "execution_count": null,
   "id": "6d0eb9c5",
   "metadata": {},
   "outputs": [],
   "source": [
    "account = ss.get_account()"
   ]
  },
  {
   "cell_type": "markdown",
   "id": "c0745b0d",
   "metadata": {},
   "source": [
    "## get_token_holders"
   ]
  },
  {
   "cell_type": "markdown",
   "id": "3d3414c8",
   "metadata": {},
   "source": []
  },
  {
   "cell_type": "code",
   "execution_count": null,
   "id": "7962c21e",
   "metadata": {},
   "outputs": [],
   "source": [
    "token_holders = ss.get_token_holders()"
   ]
  },
  {
   "cell_type": "markdown",
   "id": "427d3ea2",
   "metadata": {},
   "source": [
    "## get_token_meta"
   ]
  },
  {
   "cell_type": "markdown",
   "id": "658beba7",
   "metadata": {},
   "source": []
  },
  {
   "cell_type": "code",
   "execution_count": null,
   "id": "8ce3b294",
   "metadata": {},
   "outputs": [],
   "source": [
    "token_meta = ss.get_token_meta()"
   ]
  },
  {
   "cell_type": "markdown",
   "id": "02548683",
   "metadata": {},
   "source": [
    "## get_token_info"
   ]
  },
  {
   "cell_type": "markdown",
   "id": "6e68b5d3",
   "metadata": {},
   "source": []
  },
  {
   "cell_type": "code",
   "execution_count": null,
   "id": "0d4de18d",
   "metadata": {},
   "outputs": [],
   "source": [
    "token_info = ss.get_token_info()"
   ]
  },
  {
   "cell_type": "markdown",
   "id": "46328243",
   "metadata": {},
   "source": [
    "## get_market_info"
   ]
  },
  {
   "cell_type": "markdown",
   "id": "fc2dc8a0",
   "metadata": {},
   "source": []
  },
  {
   "cell_type": "code",
   "execution_count": null,
   "id": "f7703e30",
   "metadata": {},
   "outputs": [],
   "source": [
    "market_info = ss.get_market_info()"
   ]
  },
  {
   "cell_type": "markdown",
   "id": "5838a289",
   "metadata": {},
   "source": [
    "## get_chain_info"
   ]
  },
  {
   "cell_type": "markdown",
   "id": "1ce903b3",
   "metadata": {},
   "source": []
  },
  {
   "cell_type": "code",
   "execution_count": null,
   "id": "2ea16ec8",
   "metadata": {},
   "outputs": [],
   "source": [
    "chain_info = ss.get_chain_info()"
   ]
  }
 ],
 "metadata": {
  "kernelspec": {
   "display_name": "Python 3 (ipykernel)",
   "language": "python",
   "name": "python3"
  },
  "language_info": {
   "codemirror_mode": {
    "name": "ipython",
    "version": 3
   },
   "file_extension": ".py",
   "mimetype": "text/x-python",
   "name": "python",
   "nbconvert_exporter": "python",
   "pygments_lexer": "ipython3",
   "version": "3.9.6"
  }
 },
 "nbformat": 4,
 "nbformat_minor": 5
}
