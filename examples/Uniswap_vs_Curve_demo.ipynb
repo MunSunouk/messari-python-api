{
 "cells": [
  {
   "cell_type": "markdown",
   "id": "e53fdfdc",
   "metadata": {},
   "source": [
    "# Messari Python Package Example"
   ]
  },
  {
   "cell_type": "markdown",
   "id": "4973de62",
   "metadata": {},
   "source": [
    "The purpose of this jupyter notebook is to provide an example of what can be done using the Messari Python package. In this example we will be using APIs from Messari and DeFi Llama to do some in depth analysis of everybodies favorite decentralized reserve asset, OHM by OlympusDAO.  Both of these APIs are easy to interface with using the Messari Package so let's see what we can discover!"
   ]
  },
  {
   "cell_type": "markdown",
   "id": "90bb92f4",
   "metadata": {},
   "source": [
    "## Setup"
   ]
  },
  {
   "cell_type": "code",
   "execution_count": 3,
   "id": "fe6598d1",
   "metadata": {},
   "outputs": [],
   "source": [
    "import matplotlib.pyplot as plt\n",
    "import pandas as pd"
   ]
  },
  {
   "cell_type": "code",
   "execution_count": 2,
   "id": "f2eee230",
   "metadata": {},
   "outputs": [],
   "source": [
    "start_date = '2021-01-01'\n",
    "end_date = '2021-11-01'\n",
    "asset_slug = ['ohm']\n",
    "metric = \"price\""
   ]
  },
  {
   "cell_type": "markdown",
   "id": "86fca68c",
   "metadata": {},
   "source": [
    "## Price & TVL Data"
   ]
  },
  {
   "cell_type": "code",
   "execution_count": 4,
   "id": "1df426ea",
   "metadata": {},
   "outputs": [],
   "source": [
    "from messari.timeseries import get_metric_timeseries\n",
    "from messari.defi_llama import get_protocol_tvl_timeseries\n",
    "\n",
    "price_timeseries_df = get_metric_timeseries(asset_slugs=asset_slug, asset_metric=metric, start=start_date, end=end_date)\n",
    "protocol_tvl_df = get_protocol_tvl_timeseries(asset_slug, start_date=start_date, end_date=end_date)"
   ]
  },
  {
   "cell_type": "code",
   "execution_count": 6,
   "id": "c75b75f9",
   "metadata": {},
   "outputs": [],
   "source": [
    "#price_timeseries_df"
   ]
  }
 ],
 "metadata": {
  "kernelspec": {
   "display_name": "Python 3 (ipykernel)",
   "language": "python",
   "name": "python3"
  },
  "language_info": {
   "codemirror_mode": {
    "name": "ipython",
    "version": 3
   },
   "file_extension": ".py",
   "mimetype": "text/x-python",
   "name": "python",
   "nbconvert_exporter": "python",
   "pygments_lexer": "ipython3",
   "version": "3.9.6"
  }
 },
 "nbformat": 4,
 "nbformat_minor": 5
}
